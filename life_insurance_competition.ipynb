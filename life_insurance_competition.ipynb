{
 "cells": [
  {
   "cell_type": "markdown",
   "metadata": {},
   "source": [
    "### Feature engineering:\n",
    "  \\- [Polynomials of strong features](#Polynomials-of-strong-features)  <br/>\n",
    "  \\- [Log of skewed features](#Log-of-skewed-features) <br/>\n",
    "  \\- [Remove low var features](#Remove-low-var-features) <br/>\n",
    "  \\- [Reduce levels of categorical features](#Apply-transformations) <br/>\n",
    "  \\- [One-hot-encoding](#Apply-transformations) <br/>\n",
    "  \\- [Make 2-level categorical features booleans](#Apply-transformations) <br/>\n",
    "  \\- [Normalize_features](#Apply-transformations) <br/>\n",
    "  \\+ [PCA of correlated features](#Apply-transformations) <br/>\n",
    "  \\+ [Retrieve hidden meaning from categorical data](#Apply-transformations) <br/>\n",
    "  \\+ [Sum up boolean columns](#Apply-transformations) <br/>\n",
    "  \\+ [Replace NA with means](#Apply-transformations) <br/>\n",
    "  \\+ [Sum up boolean columns](#Apply-transformations) <br/>\n",
    "  \\+ [Lasso features](#Lasso-features) <br/>\n",
    "  \\+ [Offsests](#Find-offsets-using-fmin_powell) <br/>\n",
    "  \n",
    "    \n",
    "\n",
    "### Algorithms:\n",
    "  \\+\\+ [GradientBoostingRegressor](#GradientBoostingRegressor)  <br/>\n",
    "  \\+ [XGBoost](#XGBoost)  <br/>\n",
    "  \\- [RidgeCV](#RidgeCV)  <br/>\n",
    "  \\- [RandomForestRegressor](#RandomForestRegressor)  <br/>\n",
    "  \\- [Lasso](#Lasso)  <br/>"
   ]
  },
  {
   "cell_type": "code",
   "execution_count": 13,
   "metadata": {
    "collapsed": true
   },
   "outputs": [],
   "source": [
    "import pandas as pd\n",
    "import matplotlib.pyplot as plt\n",
    "import seaborn as sns\n",
    "import numpy as np\n",
    "from scipy.stats import skew\n",
    "%matplotlib inline\n",
    "\n",
    "from __future__ import division"
   ]
  },
  {
   "cell_type": "code",
   "execution_count": 14,
   "metadata": {
    "collapsed": false
   },
   "outputs": [],
   "source": [
    "import xgboost as xgb\n",
    "from xgboost.sklearn import XGBRegressor\n",
    "from ml_metrics import quadratic_weighted_kappa\n",
    "from sklearn.grid_search import GridSearchCV"
   ]
  },
  {
   "cell_type": "markdown",
   "metadata": {},
   "source": [
    "### Useful functions"
   ]
  },
  {
   "cell_type": "code",
   "execution_count": 15,
   "metadata": {
    "collapsed": false
   },
   "outputs": [],
   "source": [
    "from sklearn.preprocessing import normalize, MinMaxScaler\n",
    "from sklearn.preprocessing import MinMaxScaler\n",
    "\n",
    "def get_1h_map(data, cols):\n",
    "    one_hot_dict = {}\n",
    "    for col in cols:\n",
    "        unique_vals = np.array( pd.Series(data.loc[:, col].unique()).dropna() )\n",
    "        one_hot_dict[col] = unique_vals\n",
    "    return one_hot_dict\n",
    "\n",
    "def one_hot_encode(data, one_hot_cols):\n",
    "    for col, vals in one_hot_cols.iteritems():\n",
    "        for unique_val in vals:\n",
    "            data.loc[:, col + '_' + str(unique_val)] = data.loc[:, col].isin([unique_val])\n",
    "        data = data.drop(col, axis=1)\n",
    "    return data\n",
    "\n",
    "def get_polynomials(data, features, power):\n",
    "    for col in features:\n",
    "        data.loc[:, col + '_squared'] = data[col].apply(lambda x: x**power)\n",
    "    return data\n",
    "\n",
    "# maps all rare categorical levels to a single level (string)\n",
    "def get_reduced_freq_map(dataset, feature, freq_threshold):\n",
    "    freq_map = {}\n",
    "    val_count = len(dataset[feature])\n",
    "    for a, b in dataset[feature].value_counts().iteritems():\n",
    "        freq_map[a] = b / val_count\n",
    "\n",
    "    freq_rate_map = {}\n",
    "    for k, v in freq_map.iteritems():\n",
    "        if v < freq_threshold:\n",
    "            freq_rate_map[k] = feature + '_low'\n",
    "\n",
    "    return freq_rate_map\n",
    "\n",
    "def make_binary(data, bool_not_binary):\n",
    "    # mapping twice since 'Replacement not allowed with overlapping keys and values'\n",
    "    bool_mapping = {}\n",
    "    for col in bool_not_binary:\n",
    "        unique_vals = np.array( pd.Series(data[col].unique()).dropna() )\n",
    "        mapping = {unique_vals[0]: '0', unique_vals[1]: '1'}\n",
    "        if mapping: bool_mapping[col] = mapping          \n",
    "    data = data.replace(bool_mapping)\n",
    "    bool_mapping = {'0': 0, '1': 1}\n",
    "    data = data.replace(bool_mapping)\n",
    "    return data\n",
    "\n",
    "def is_normalized(col):\n",
    "    return max(col) <= 1 and min(col) >= 0\n",
    "\n",
    "def normalize_features(data, features): # works for positive values\n",
    "    for col in features:\n",
    "        if not is_normalized(data.loc[:, col]):\n",
    "            print col\n",
    "            data.loc[:, col] = normalize([data.loc[:, col]])[0] \n",
    "    return data\n",
    "\n",
    "def factorize_pr_info_2(data):\n",
    "    data.loc[:, 'Product_Info_2_let'] = pd.factorize(data.loc[:, 'Product_Info_2'].str[0])[0]\n",
    "    data.loc[:, 'Product_Info_2_num'] = pd.factorize(data.loc[:, 'Product_Info_2'].str[1])[0]\n",
    "    data.loc[:, 'Product_Info_2']     = pd.factorize(data.loc[:, 'Product_Info_2'])[0]\n",
    "    return data\n",
    "\n",
    "def sum_bool_cols(data, starts_with):\n",
    "    column_names = data.columns[data.columns.str.startswith(starts_with)]\n",
    "    data.loc[:, starts_with + '_Sum'] = data.loc[:, column_names].sum(axis=1)\n",
    "    return data\n",
    "\n",
    "def offset_data(predictions, offsets):\n",
    "    offsets = dict(zip(range(1, 9), offsets))\n",
    "    offset_predictions = []\n",
    "    for pred in predictions:\n",
    "        pred_int = np.round(pred).astype(int) \n",
    "        if pred_int in offsets:\n",
    "            offset_predictions.append(pred + offsets[pred_int])\n",
    "        else:\n",
    "            offset_predictions.append(pred)   \n",
    "    return offset_predictions\n",
    "\n",
    "def clip_data(predictions, minimum, maximum):\n",
    "    preds_rnd = np.round(predictions)\n",
    "    final_preds = np.clip(preds_rnd, minimum, maximum)\n",
    "    return final_preds.astype(int)\n",
    "    \n",
    "def score_data(final_preds, labels):\n",
    "    # κ tends to underestimate the agreement on the rare category\n",
    "    return quadratic_weighted_kappa(final_preds, labels)\n",
    "\n",
    "def PCA_features(data, features, pca, scaler, drop_orig=True):\n",
    "    features_combo = data.loc[:, features]\n",
    "    features_combo = pca.fit_transform(features_combo.fillna(features_combo.mean())) \n",
    "\n",
    "    features_combo = scaler.fit_transform(features_combo)\n",
    "    features_combo = normalize([features_combo.flatten()], copy=True)\n",
    "\n",
    "    pca_col_name = '_'.join(['PCA'] + features)\n",
    "    data.loc[:, pca_col_name] = features_combo[0]\n",
    "    \n",
    "    if drop_orig:\n",
    "        data = data.drop(features, axis=1)\n",
    "\n",
    "    return data"
   ]
  },
  {
   "cell_type": "code",
   "execution_count": 16,
   "metadata": {
    "collapsed": true
   },
   "outputs": [],
   "source": [
    "dataset_raw = pd.read_csv(\"train.csv\") \n",
    "dataset = dataset_raw.copy()"
   ]
  },
  {
   "cell_type": "code",
   "execution_count": 17,
   "metadata": {
    "collapsed": true
   },
   "outputs": [],
   "source": [
    "dataset = dataset.drop('Id', axis=1)"
   ]
  },
  {
   "cell_type": "markdown",
   "metadata": {},
   "source": [
    "### Explore Data"
   ]
  },
  {
   "cell_type": "code",
   "execution_count": 18,
   "metadata": {
    "collapsed": false
   },
   "outputs": [
    {
     "data": {
      "text/plain": [
       "numpy.int64"
      ]
     },
     "execution_count": 18,
     "metadata": {},
     "output_type": "execute_result"
    }
   ],
   "source": [
    "type(dataset['Response'][0])"
   ]
  },
  {
   "cell_type": "code",
   "execution_count": 19,
   "metadata": {
    "collapsed": false
   },
   "outputs": [
    {
     "name": "stdout",
     "output_type": "stream",
     "text": [
      "59381 by 127\n"
     ]
    }
   ],
   "source": [
    "print len(dataset), 'by', len(list(dataset))"
   ]
  },
  {
   "cell_type": "code",
   "execution_count": 20,
   "metadata": {
    "collapsed": false
   },
   "outputs": [],
   "source": [
    "# copied from 'Get the Data' section on Kaggle\n",
    "categorical_feat_str = 'Product_Info_1, Product_Info_2, Product_Info_3, Product_Info_5, Product_Info_6, Product_Info_7, Employment_Info_2, Employment_Info_3, Employment_Info_5, InsuredInfo_1, InsuredInfo_2, InsuredInfo_3, InsuredInfo_4, InsuredInfo_5, InsuredInfo_6, InsuredInfo_7, Insurance_History_1, Insurance_History_2, Insurance_History_3, Insurance_History_4, Insurance_History_7, Insurance_History_8, Insurance_History_9, Family_Hist_1, Medical_History_2, Medical_History_3, Medical_History_4, Medical_History_5, Medical_History_6, Medical_History_7, Medical_History_8, Medical_History_9, Medical_History_11, Medical_History_12, Medical_History_13, Medical_History_14, Medical_History_16, Medical_History_17, Medical_History_18, Medical_History_19, Medical_History_20, Medical_History_21, Medical_History_22, Medical_History_23, Medical_History_25, Medical_History_26, Medical_History_27, Medical_History_28, Medical_History_29, Medical_History_30, Medical_History_31, Medical_History_33, Medical_History_34, Medical_History_35, Medical_History_36, Medical_History_37, Medical_History_38, Medical_History_39, Medical_History_40, Medical_History_41'\n",
    "\n",
    "categorical_features = [col.strip() for col in categorical_feat_str.split(',')]\n",
    "numerical_features = [col for col in list(dataset) if col not in categorical_features and len(dataset[col].unique()) != 2]\n",
    "numerical_and_bool_features = [col for col in list(dataset) if col not in categorical_features]\n",
    "numerical_features_no_label = filter(lambda x: x != 'Response', numerical_features)"
   ]
  },
  {
   "cell_type": "code",
   "execution_count": 21,
   "metadata": {
    "collapsed": true
   },
   "outputs": [],
   "source": [
    "groups = ['Product_Info', 'Employment_Info', 'InsuredInfo', 'Insurance_History', 'Family_Hist', 'Medical_History', 'Medical_Keyword']"
   ]
  },
  {
   "cell_type": "code",
   "execution_count": 22,
   "metadata": {
    "collapsed": true
   },
   "outputs": [],
   "source": [
    "high_NA_features = []\n",
    "bool_not_binary = []\n",
    "need_normalization = []"
   ]
  },
  {
   "cell_type": "code",
   "execution_count": 23,
   "metadata": {
    "collapsed": false
   },
   "outputs": [
    {
     "name": "stdout",
     "output_type": "stream",
     "text": [
      "                    NAME  TYPE_int  TYPE_act MIN       MAX  UNIQUE  NULLS    NOTES\n",
      "0         Product_Info_1  category    number   1         2       2   0.0%  boolean\n",
      "1         Product_Info_2  category  category  D3        A1      19   0.0%      ---\n",
      "2         Product_Info_3  category    number   1        38      34   0.0%      ---\n",
      "3         Product_Info_4    number    number   0         1    1491   0.0%      ---\n",
      "4         Product_Info_5  category    number   2         3       2   0.0%  boolean\n",
      "5         Product_Info_6  category    number   1         3       2   0.0%  boolean\n",
      "6         Product_Info_7  category    number   1         3       3   0.0%      ---\n",
      "7                Ins_Age    number    number   0         1      65   0.0%      ---\n",
      "8                     Ht    number    number   0         1      39   0.0%      ---\n",
      "9                     Wt    number    number   0         1     300   0.0%      ---\n",
      "10                   BMI    number    number   0         1    3256   0.0%  Wt/Ht^2\n",
      "11     Employment_Info_1    number    number   0         1    1937  0.03%      ---\n",
      "12     Employment_Info_2  category    number   1        38      36   0.0%      ---\n",
      "13     Employment_Info_3  category    number   1         3       2   0.0%  boolean\n",
      "14     Employment_Info_4    number    number   0         1     872  11.4%      ---\n",
      "15     Employment_Info_5  category    number   2         3       2   0.0%  boolean\n",
      "16     Employment_Info_6    number    number   0         1     993  18.2%      ---\n",
      "17         InsuredInfo_1  category    number   1         3       3   0.0%      ---\n",
      "18         InsuredInfo_2  category    number   2         3       2   0.0%  boolean\n",
      "19         InsuredInfo_3  category    number   1        11      11   0.0%      ---\n",
      "20         InsuredInfo_4  category    number   2         3       2   0.0%  boolean\n",
      "21         InsuredInfo_5  category    number   1         3       2   0.0%  boolean\n",
      "22         InsuredInfo_6  category    number   1         2       2   0.0%  boolean\n",
      "23         InsuredInfo_7  category    number   1         3       2   0.0%  boolean\n",
      "24   Insurance_History_1  category    number   1         2       2   0.0%  boolean\n",
      "25   Insurance_History_2  category    number   1         3       3   0.0%      ---\n",
      "26   Insurance_History_3  category    number   1         3       3   0.0%      ---\n",
      "27   Insurance_History_4  category    number   1         3       3   0.0%      ---\n",
      "28   Insurance_History_5    number    number   0         1    2266  42.7%      ---\n",
      "29   Insurance_History_7  category    number   1         3       3   0.0%      ---\n",
      "30   Insurance_History_8  category    number   1         3       3   0.0%      ---\n",
      "31   Insurance_History_9  category    number   1         3       3   0.0%      ---\n",
      "32         Family_Hist_1  category    number   1         3       3   0.0%      ---\n",
      "33         Family_Hist_2    number    number   0         1      69  48.2%      ---\n",
      "34         Family_Hist_3    number    number   0         1      91  57.6%      ---\n",
      "35         Family_Hist_4    number    number   0  0.943662      69  32.3%      ---\n",
      "36         Family_Hist_5    number    number   0         1      91  70.4%  high NA\n",
      "37     Medical_History_1    number    number   0       240     172  14.9%      ---\n",
      "38     Medical_History_2  category    number   1       648     579   0.0%      ---\n",
      "39     Medical_History_3  category    number   1         3       3   0.0%      ---\n",
      "40     Medical_History_4  category    number   1         2       2   0.0%  boolean\n",
      "41     Medical_History_5  category    number   1         3       3   0.0%      ---\n",
      "42     Medical_History_6  category    number   1         3       3   0.0%      ---\n",
      "43     Medical_History_7  category    number   1         3       3   0.0%      ---\n",
      "44     Medical_History_8  category    number   1         3       3   0.0%      ---\n",
      "45     Medical_History_9  category    number   1         3       3   0.0%      ---\n",
      "46    Medical_History_10    number    number   0       240     104  99.0%  high NA\n",
      "47    Medical_History_11  category    number   1         3       3   0.0%      ---\n",
      "48    Medical_History_12  category    number   1         3       3   0.0%      ---\n",
      "49    Medical_History_13  category    number   1         3       3   0.0%      ---\n",
      "50    Medical_History_14  category    number   1         3       3   0.0%      ---\n",
      "51    Medical_History_15    number    number   0       240     242  75.1%  high NA\n",
      "52    Medical_History_16  category    number   1         3       3   0.0%      ---\n",
      "53    Medical_History_17  category    number   1         3       3   0.0%      ---\n",
      "54    Medical_History_18  category    number   1         3       3   0.0%      ---\n",
      "55    Medical_History_19  category    number   1         3       3   0.0%      ---\n",
      "56    Medical_History_20  category    number   1         3       3   0.0%      ---\n",
      "57    Medical_History_21  category    number   1         3       3   0.0%      ---\n",
      "58    Medical_History_22  category    number   1         2       2   0.0%  boolean\n",
      "59    Medical_History_23  category    number   1         3       3   0.0%      ---\n",
      "60    Medical_History_24    number    number   0       240     228  93.5%  high NA\n",
      "61    Medical_History_25  category    number   1         3       3   0.0%      ---\n",
      "62    Medical_History_26  category    number   1         3       3   0.0%      ---\n",
      "63    Medical_History_27  category    number   1         3       3   0.0%      ---\n",
      "64    Medical_History_28  category    number   1         3       3   0.0%      ---\n",
      "65    Medical_History_29  category    number   1         3       3   0.0%      ---\n",
      "66    Medical_History_30  category    number   1         3       3   0.0%      ---\n",
      "67    Medical_History_31  category    number   1         3       3   0.0%      ---\n",
      "68    Medical_History_32    number    number   0       240      96  98.1%  high NA\n",
      "69    Medical_History_33  category    number   1         3       2   0.0%  boolean\n",
      "70    Medical_History_34  category    number   1         3       3   0.0%      ---\n",
      "71    Medical_History_35  category    number   1         3       3   0.0%      ---\n",
      "72    Medical_History_36  category    number   1         3       3   0.0%      ---\n",
      "73    Medical_History_37  category    number   1         3       3   0.0%      ---\n",
      "74    Medical_History_38  category    number   1         2       2   0.0%  boolean\n",
      "75    Medical_History_39  category    number   1         3       3   0.0%      ---\n",
      "76    Medical_History_40  category    number   1         3       3   0.0%      ---\n",
      "77    Medical_History_41  category    number   1         3       3   0.0%      ---\n",
      "78     Medical_Keyword_1    number    number   0         1       2   0.0%  boolean\n",
      "79     Medical_Keyword_2    number    number   0         1       2   0.0%  boolean\n",
      "80     Medical_Keyword_3    number    number   0         1       2   0.0%  boolean\n",
      "81     Medical_Keyword_4    number    number   0         1       2   0.0%  boolean\n",
      "82     Medical_Keyword_5    number    number   0         1       2   0.0%  boolean\n",
      "83     Medical_Keyword_6    number    number   0         1       2   0.0%  boolean\n",
      "84     Medical_Keyword_7    number    number   0         1       2   0.0%  boolean\n",
      "85     Medical_Keyword_8    number    number   0         1       2   0.0%  boolean\n",
      "86     Medical_Keyword_9    number    number   0         1       2   0.0%  boolean\n",
      "87    Medical_Keyword_10    number    number   0         1       2   0.0%  boolean\n",
      "88    Medical_Keyword_11    number    number   0         1       2   0.0%  boolean\n",
      "89    Medical_Keyword_12    number    number   0         1       2   0.0%  boolean\n",
      "90    Medical_Keyword_13    number    number   0         1       2   0.0%  boolean\n",
      "91    Medical_Keyword_14    number    number   0         1       2   0.0%  boolean\n",
      "92    Medical_Keyword_15    number    number   0         1       2   0.0%  boolean\n",
      "93    Medical_Keyword_16    number    number   0         1       2   0.0%  boolean\n",
      "94    Medical_Keyword_17    number    number   0         1       2   0.0%  boolean\n",
      "95    Medical_Keyword_18    number    number   0         1       2   0.0%  boolean\n",
      "96    Medical_Keyword_19    number    number   0         1       2   0.0%  boolean\n",
      "97    Medical_Keyword_20    number    number   0         1       2   0.0%  boolean\n",
      "98    Medical_Keyword_21    number    number   0         1       2   0.0%  boolean\n",
      "99    Medical_Keyword_22    number    number   0         1       2   0.0%  boolean\n",
      "100   Medical_Keyword_23    number    number   0         1       2   0.0%  boolean\n",
      "101   Medical_Keyword_24    number    number   0         1       2   0.0%  boolean\n",
      "102   Medical_Keyword_25    number    number   0         1       2   0.0%  boolean\n",
      "103   Medical_Keyword_26    number    number   0         1       2   0.0%  boolean\n",
      "104   Medical_Keyword_27    number    number   0         1       2   0.0%  boolean\n",
      "105   Medical_Keyword_28    number    number   0         1       2   0.0%  boolean\n",
      "106   Medical_Keyword_29    number    number   0         1       2   0.0%  boolean\n",
      "107   Medical_Keyword_30    number    number   0         1       2   0.0%  boolean\n",
      "108   Medical_Keyword_31    number    number   0         1       2   0.0%  boolean\n",
      "109   Medical_Keyword_32    number    number   0         1       2   0.0%  boolean\n",
      "110   Medical_Keyword_33    number    number   0         1       2   0.0%  boolean\n",
      "111   Medical_Keyword_34    number    number   0         1       2   0.0%  boolean\n",
      "112   Medical_Keyword_35    number    number   0         1       2   0.0%  boolean\n",
      "113   Medical_Keyword_36    number    number   0         1       2   0.0%  boolean\n",
      "114   Medical_Keyword_37    number    number   0         1       2   0.0%  boolean\n",
      "115   Medical_Keyword_38    number    number   0         1       2   0.0%  boolean\n",
      "116   Medical_Keyword_39    number    number   0         1       2   0.0%  boolean\n",
      "117   Medical_Keyword_40    number    number   0         1       2   0.0%  boolean\n",
      "118   Medical_Keyword_41    number    number   0         1       2   0.0%  boolean\n",
      "119   Medical_Keyword_42    number    number   0         1       2   0.0%  boolean\n",
      "120   Medical_Keyword_43    number    number   0         1       2   0.0%  boolean\n",
      "121   Medical_Keyword_44    number    number   0         1       2   0.0%  boolean\n",
      "122   Medical_Keyword_45    number    number   0         1       2   0.0%  boolean\n",
      "123   Medical_Keyword_46    number    number   0         1       2   0.0%  boolean\n",
      "124   Medical_Keyword_47    number    number   0         1       2   0.0%  boolean\n",
      "125   Medical_Keyword_48    number    number   0         1       2   0.0%  boolean\n",
      "126             Response    number    number   1         8       8   0.0%   target\n"
     ]
    }
   ],
   "source": [
    "col_notes = {\n",
    "    'Id': 'useless',\n",
    "    'BMI': 'Wt/Ht^2',\n",
    "    'Response': 'target'}\n",
    "\n",
    "d = {'NAME': [], \n",
    "     'MIN': [], \n",
    "     'MAX': [], \n",
    "     'NULLS': [], \n",
    "     'TYPE_int': [], # type intended\n",
    "     'TYPE_act': [], # actual type in raw data\n",
    "     'UNIQUE': [],\n",
    "     'NOTES': []}\n",
    "\n",
    "dataset_len = len(dataset)\n",
    "\n",
    "for col in list(dataset):    \n",
    "    unique_values = np.array(pd.Series(dataset[col].unique()).dropna())\n",
    "    minimum = unique_values[0] if (isinstance(unique_values[0], str)) else np.min(unique_values)\n",
    "    maximum = unique_values[1] if (isinstance(unique_values[1], str)) else np.max(unique_values)\n",
    "  \n",
    "    num_unique = len(dataset[col].unique())\n",
    "    tp_int = 'category' if col in categorical_features else 'number'\n",
    "    tp_act = 'category' if (isinstance(minimum, str)) else 'number'\n",
    "    nulls_float = dataset[col].isnull().sum() / dataset_len\n",
    "    nulls = str(nulls_float*100)[:4] + '%'\n",
    "    note = col_notes[col] if col in col_notes else '---'\n",
    "    note = 'boolean' if num_unique == 2 else note\n",
    "    note = 'high NA' if (nulls_float > 0.7) else note\n",
    "    \n",
    "    if (nulls_float > 0.7):\n",
    "        high_NA_features.append(col)\n",
    "        \n",
    "    if (num_unique == 2 and sum(dataset[col].unique()) != 1):\n",
    "        bool_not_binary.append(col)\n",
    "    \n",
    "    if 'Medical_History' in col and tp_int == 'number':\n",
    "        need_normalization.append(col)\n",
    "    \n",
    "    \n",
    "    d['NAME']     = d['NAME']     + [col]\n",
    "    d['MIN']      = d['MIN']      + [minimum]\n",
    "    d['MAX']      = d['MAX']      + [maximum]\n",
    "    d['NULLS']    = d['NULLS']    + [nulls]\n",
    "    d['TYPE_int'] = d['TYPE_int'] + [tp_int]\n",
    "    d['TYPE_act'] = d['TYPE_act'] + [tp_act]\n",
    "    d['UNIQUE']   = d['UNIQUE']   + [num_unique]\n",
    "    d['NOTES']    = d['NOTES']    + [note]\n",
    "    \n",
    "with pd.option_context('display.max_rows', len(d['NAME']), 'expand_frame_repr', False):\n",
    "    print pd.DataFrame(d)[['NAME', 'TYPE_int', 'TYPE_act', 'MIN', 'MAX', 'UNIQUE', 'NULLS', 'NOTES']]"
   ]
  },
  {
   "cell_type": "code",
   "execution_count": 24,
   "metadata": {
    "collapsed": false
   },
   "outputs": [
    {
     "data": {
      "text/plain": [
       "<matplotlib.axes._subplots.AxesSubplot at 0x7fb476ae0d50>"
      ]
     },
     "execution_count": 24,
     "metadata": {},
     "output_type": "execute_result"
    },
    {
     "data": {
      "image/png": "[encoded data removed]",
      "text/plain": [
       "<matplotlib.figure.Figure at 0x7fb476ae0750>"
      ]
     },
     "metadata": {},
     "output_type": "display_data"
    }
   ],
   "source": [
    "corr = dataset[numerical_features].corr()\n",
    "\n",
    "plt.figure(figsize=(9,9))\n",
    "sns.heatmap(corr, vmax=1, square=True)"
   ]
  },
  {
   "cell_type": "code",
   "execution_count": 25,
   "metadata": {
    "collapsed": false
   },
   "outputs": [
    {
     "data": {
      "text/plain": [
       "<matplotlib.axes._subplots.AxesSubplot at 0x7fb4769d7f90>"
      ]
     },
     "execution_count": 25,
     "metadata": {},
     "output_type": "execute_result"
    },
    {
     "data": {
      "image/png": "[encoded data removed]",
      "text/plain": [
       "<matplotlib.figure.Figure at 0x7fb4766fce90>"
      ]
     },
     "metadata": {},
     "output_type": "display_data"
    }
   ],
   "source": [
    "sns.countplot(x='Product_Info_2', data=dataset, order=sorted(set(dataset['Product_Info_2'])))"
   ]
  },
  {
   "cell_type": "code",
   "execution_count": 26,
   "metadata": {
    "collapsed": false
   },
   "outputs": [
    {
     "data": {
      "text/plain": [
       "<matplotlib.axes._subplots.AxesSubplot at 0x7fb47654dc50>"
      ]
     },
     "execution_count": 26,
     "metadata": {},
     "output_type": "execute_result"
    },
    {
     "data": {
      "image/png": "[encoded data removed]",
      "text/plain": [
       "<matplotlib.figure.Figure at 0x7fb4771a7c90>"
      ]
     },
     "metadata": {},
     "output_type": "display_data"
    }
   ],
   "source": [
    "sns.countplot(x='Response', data=dataset)"
   ]
  },
  {
   "cell_type": "code",
   "execution_count": 27,
   "metadata": {
    "collapsed": false
   },
   "outputs": [
    {
     "data": {
      "text/plain": [
       "<seaborn.axisgrid.FacetGrid at 0x7fb4764e7a50>"
      ]
     },
     "execution_count": 27,
     "metadata": {},
     "output_type": "execute_result"
    },
    {
     "data": {
      "image/png": "[encoded data removed]",
      "text/plain": [
       "<matplotlib.figure.Figure at 0x7fb4764e7610>"
      ]
     },
     "metadata": {},
     "output_type": "display_data"
    },
    {
     "data": {
      "image/png": "[encoded data removed]",
      "text/plain": [
       "<matplotlib.figure.Figure at 0x7fb4765eefd0>"
      ]
     },
     "metadata": {},
     "output_type": "display_data"
    }
   ],
   "source": [
    "sns.lmplot(x='Ins_Age', y='Response', data=dataset, scatter=False)\n",
    "sns.lmplot(x='BMI', y='Response', data=dataset, scatter=False)"
   ]
  },
  {
   "cell_type": "markdown",
   "metadata": {},
   "source": [
    "### Polynomials of strong features"
   ]
  },
  {
   "cell_type": "code",
   "execution_count": 28,
   "metadata": {
    "collapsed": false
   },
   "outputs": [
    {
     "data": {
      "text/plain": [
       "array(['BMI', 'Wt'], dtype=object)"
      ]
     },
     "execution_count": 28,
     "metadata": {},
     "output_type": "execute_result"
    }
   ],
   "source": [
    "label_corr = np.abs(corr['Response'])\n",
    "label_corr = label_corr[label_corr > 0.3]\n",
    "label_corr = label_corr.sort_values(ascending=False)[1:]\n",
    "label_corr = np.array(label_corr.index)\n",
    "label_corr"
   ]
  },
  {
   "cell_type": "markdown",
   "metadata": {},
   "source": [
    "### DEMO: PCA with sklearn"
   ]
  },
  {
   "cell_type": "code",
   "execution_count": 29,
   "metadata": {
    "collapsed": false
   },
   "outputs": [
    {
     "name": "stdout",
     "output_type": "stream",
     "text": [
      "correlation: 1.0\n",
      "[[1 1]\n",
      " [2 2]\n",
      " [3 3]]\n",
      "[[-1.41421356]\n",
      " [ 0.        ]\n",
      " [ 1.41421356]]\n",
      "var explained: [ 1.33333333]\n"
     ]
    }
   ],
   "source": [
    "from sklearn.decomposition import PCA\n",
    "\n",
    "_train_x_ = np.array([[1,1], [2, 2], [3, 3]])\n",
    "_test_x_  = np.array([[1,1], [2, 2], [3, 3]])\n",
    "\n",
    "pca = PCA(n_components=1) # reduce to one feature\n",
    "_pca_train_x_ = pca.fit_transform(_train_x_)\n",
    "_pca_test_x_  = pca.transform(_test_x_)\n",
    "\n",
    "print 'correlation:', pd.DataFrame(_train_x_).corr()[0][1]\n",
    "print _train_x_\n",
    "print _pca_train_x_\n",
    "print 'var explained:', pca.explained_variance_"
   ]
  },
  {
   "cell_type": "code",
   "execution_count": 30,
   "metadata": {
    "collapsed": false
   },
   "outputs": [
    {
     "name": "stdout",
     "output_type": "stream",
     "text": [
      "correlation: 0.755928946018\n",
      "[[ -8  -1]\n",
      " [-12   2]\n",
      " [  0   7]]\n",
      "[[-3.00204761]\n",
      " [-4.94034787]\n",
      " [ 7.94239547]]\n",
      "var explained: [ 32.16699092]\n"
     ]
    }
   ],
   "source": [
    "_train_x_ = np.array([[-8, -1], [-12, 2], [0, 7]])\n",
    "_test_x_  = np.array([[-1, -2], [2, 2], [4, 6]])\n",
    "\n",
    "pca = PCA(n_components=1)\n",
    "_pca_train_x_ = pca.fit_transform(_train_x_)\n",
    "_pca_test_x_  = pca.transform(_test_x_)\n",
    "\n",
    "print 'correlation:', pd.DataFrame(_train_x_).corr()[0][1]\n",
    "print _train_x_\n",
    "print _pca_train_x_\n",
    "print 'var explained:', pca.explained_variance_"
   ]
  },
  {
   "cell_type": "markdown",
   "metadata": {},
   "source": [
    "### Split data"
   ]
  },
  {
   "cell_type": "code",
   "execution_count": 166,
   "metadata": {
    "collapsed": false
   },
   "outputs": [],
   "source": [
    "from sklearn.model_selection import train_test_split\n",
    "\n",
    "x = dataset.drop('Response', axis=1)\n",
    "y = dataset.loc[:, 'Response']\n",
    "\n",
    "x_train, x_test, y_train, y_test = train_test_split(x, y, test_size=0.25)"
   ]
  },
  {
   "cell_type": "markdown",
   "metadata": {},
   "source": [
    "### Log of skewed features"
   ]
  },
  {
   "cell_type": "code",
   "execution_count": 32,
   "metadata": {
    "collapsed": false
   },
   "outputs": [],
   "source": [
    "# col_skewness = [skew(x_train[col].dropna()) for col in numerical_features_no_label]\n",
    "# skewed_features = [feature for sk, feature in zip(col_skewness, numerical_features_no_label) if sk > 0.75]\n",
    "# dataset[skewed_features] = np.log1p(dataset[skewed_features])"
   ]
  },
  {
   "cell_type": "markdown",
   "metadata": {},
   "source": [
    "### Remove low var features"
   ]
  },
  {
   "cell_type": "code",
   "execution_count": 33,
   "metadata": {
    "collapsed": false
   },
   "outputs": [],
   "source": [
    "# from sklearn.feature_selection import VarianceThreshold\n",
    "\n",
    "# numerical_and_bool_features.remove('Response')\n",
    "# norm_num_feat = normalize_features(x_train[numerical_and_bool_features].fillna(x_train.mean()), numerical_and_bool_features)\n",
    "\n",
    "# vt = VarianceThreshold(threshold=0.005)\n",
    "# vt.fit_transform(norm_num_feat)\n",
    "# low_var_feat = [v for v, b in zip(list(norm_num_feat), vt.get_support()) if not b]"
   ]
  },
  {
   "cell_type": "markdown",
   "metadata": {},
   "source": [
    "### Apply transformations"
   ]
  },
  {
   "cell_type": "code",
   "execution_count": 167,
   "metadata": {
    "collapsed": false
   },
   "outputs": [],
   "source": [
    "pca_fh24 = PCA(n_components=1)\n",
    "scaler_fh24 = MinMaxScaler()\n",
    "# pca_mh1024 = PCA(n_components=1)\n",
    "# scaler_mh1024 = MinMaxScaler()\n",
    "\n",
    "#x_train = x_train.drop(low_var_feat, axis=1)\n",
    "#x_train = x_train.replace({'Medical_History_2': get_reduced_freq_map(x_train, 'Medical_History_2', 0.005)})\n",
    "#x_train = x_train.replace({'Product_Info_3':    get_reduced_freq_map(x_train, 'Product_Info_3',    0.0001)})\n",
    "\n",
    "#one_hot_cols = filter(lambda col: len(x_train[col].unique()) is not 2, categorical_features)\n",
    "#one_hot_map = get_1h_map(x_train, one_hot_cols)\n",
    "\n",
    "#x_train = x_train.drop(high_NA_features, axis=1)\n",
    "#x_train = make_binary(x_train, bool_not_binary)\n",
    "#x_train = one_hot_encode(x_train, one_hot_map)\n",
    "\n",
    "#x_train = PCA_features(x_train, ['Medical_History_10', 'Medical_History_24'], pca_mh1024, scaler_mh1024)\n",
    "x_train = factorize_pr_info_2(x_train)\n",
    "x_train = PCA_features(x_train, ['Family_Hist_2', 'Family_Hist_4'], pca_fh24, scaler_fh24, drop_orig=False)\n",
    "x_train = sum_bool_cols(x_train, 'Medical_Keyword')\n",
    "x_train = x_train.fillna(x_train.mean())\n",
    "\n",
    "#x_train = get_polynomials(x_train, label_corr, 2)\n",
    "#x_train = get_polynomials(x_train, label_corr, 3)\n",
    "#x_train = normalize_features(x_train, need_normalization)"
   ]
  },
  {
   "cell_type": "markdown",
   "metadata": {},
   "source": [
    "### Lasso features"
   ]
  },
  {
   "cell_type": "code",
   "execution_count": 168,
   "metadata": {
    "collapsed": false
   },
   "outputs": [
    {
     "data": {
      "text/plain": [
       "(102, 130)"
      ]
     },
     "execution_count": 168,
     "metadata": {},
     "output_type": "execute_result"
    }
   ],
   "source": [
    "from sklearn.linear_model import Lasso\n",
    "\n",
    "lasso = Lasso(alpha=0.001) # bigger alpha -> fewer features\n",
    "lasso.fit(x_train, y_train)\n",
    "\n",
    "lasso_cols = [col for col, coef in zip(list(x_train), np.abs(lasso.coef_)) if coef > 0]\n",
    "len(lasso_cols), len(list(x_train))"
   ]
  },
  {
   "cell_type": "code",
   "execution_count": 169,
   "metadata": {
    "collapsed": true
   },
   "outputs": [],
   "source": [
    "x_train = x_train[lasso_cols]"
   ]
  },
  {
   "cell_type": "code",
   "execution_count": 170,
   "metadata": {
    "collapsed": false
   },
   "outputs": [],
   "source": [
    "#x_test = x_test.drop(low_var_feat, axis=1)\n",
    "#x_test = x_test.replace({'Medical_History_2': get_reduced_freq_map(x_test, 'Medical_History_2', 0.005)})\n",
    "#x_test = x_test.replace({'Product_Info_3':    get_reduced_freq_map(x_test, 'Product_Info_3',    0.0001)})\n",
    "\n",
    "#x_test = x_test.drop(high_NA_features, axis=1)\n",
    "#x_test = make_binary(x_test, bool_not_binary)\n",
    "#x_test = one_hot_encode(x_test, one_hot_map)\n",
    "#x_test = PCA_features(x_test, ['Medical_History_10', 'Medical_History_24'], pca_mh1024, scaler_mh1024)\n",
    "x_test = PCA_features(x_test, ['Family_Hist_2', 'Family_Hist_4'], pca_fh24, scaler_fh24, drop_orig=False)\n",
    "x_test = factorize_pr_info_2(x_test)\n",
    "x_test = sum_bool_cols(x_test, 'Medical_Keyword')\n",
    "x_test = x_test.fillna(x_test.mean())\n",
    "\n",
    "#x_test = get_polynomials(x_test, label_corr, 2)\n",
    "#x_test = get_polynomials(x_test, label_corr, 3)\n",
    "#x_test = normalize_features(x_test, need_normalization)"
   ]
  },
  {
   "cell_type": "code",
   "execution_count": 171,
   "metadata": {
    "collapsed": false
   },
   "outputs": [],
   "source": [
    "x_test = x_test[lasso_cols]"
   ]
  },
  {
   "cell_type": "markdown",
   "metadata": {},
   "source": [
    "### XGBoost"
   ]
  },
  {
   "cell_type": "code",
   "execution_count": 172,
   "metadata": {
    "collapsed": false
   },
   "outputs": [],
   "source": [
    "#--------- XGBoost -------------#\n",
    "\n",
    "xgboost_params = {\n",
    "    'objective': 'reg:linear',   \n",
    "    'eta': 0.05,\n",
    "    'min_child_weight': 360,\n",
    "    'subsample': 0.85,\n",
    "    'colsample_bytree': 0.3,\n",
    "    'silent': 1,\n",
    "    'max_depth': 7\n",
    "}\n",
    "xgboost_params = list(xgboost_params.items())\n",
    "\n",
    "\n",
    "#------- XGBRegressor ----------#\n",
    "\n",
    "XGBReg_params = {\n",
    "    'min_child_weight': 360,\n",
    "    'subsample': 0.85,\n",
    "    'colsample_bytree': 0.3,\n",
    "    'silent': 1,\n",
    "    'max_depth': 7,   \n",
    "    'n_estimators': 1000\n",
    "}\n",
    "grid_dict = {\n",
    "    'learning_rate': [0.12,0.1,0.08]\n",
    "}"
   ]
  },
  {
   "cell_type": "code",
   "execution_count": 39,
   "metadata": {
    "collapsed": false
   },
   "outputs": [
    {
     "name": "stdout",
     "output_type": "stream",
     "text": [
      "0.594114354852\n"
     ]
    }
   ],
   "source": [
    "# native\n",
    "\n",
    "xgtrain = xgb.DMatrix(x_train, y_train) \n",
    "xgtest  = xgb.DMatrix(x_test,  y_test)\n",
    "\n",
    "model = xgb.train(xgboost_params, xgtrain, 1000)\n",
    "preds_xgb = model.predict(xgtest, ntree_limit=model.best_iteration)\n",
    "\n",
    "xgb_predictions_raw = np.round(preds_xgb)\n",
    "xgb_predictions = [np.minimum(np.maximum(p, 1), 8) for p in xgb_predictions_raw]\n",
    "print quadratic_weighted_kappa(xgb_predictions, y_test)"
   ]
  },
  {
   "cell_type": "code",
   "execution_count": 49,
   "metadata": {
    "collapsed": false
   },
   "outputs": [
    {
     "name": "stdout",
     "output_type": "stream",
     "text": [
      "0.594012807112\n"
     ]
    }
   ],
   "source": [
    "# sklearn api\n",
    "\n",
    "best_xgb = GridSearchCV(estimator=XGBRegressor(**XGBReg_params), param_grid=grid_dict)\n",
    "\n",
    "best_xgb.fit(x_train, y_train)\n",
    "best_predictions = best_xgb.predict(x_test)\n",
    "\n",
    "xgb_predictions_raw = np.round(best_predictions)\n",
    "xgb_predictions = [np.minimum(np.maximum(p, 1), 8) for p in xgb_predictions_raw]\n",
    "print quadratic_weighted_kappa(xgb_predictions, y_test)\n",
    "\n",
    "preds_xgb_train = model.predict(xgtrain, ntree_limit=model.best_iteration)"
   ]
  },
  {
   "cell_type": "markdown",
   "metadata": {},
   "source": [
    "### GradientBoostingRegressor"
   ]
  },
  {
   "cell_type": "code",
   "execution_count": 160,
   "metadata": {
    "collapsed": false
   },
   "outputs": [
    {
     "name": "stdout",
     "output_type": "stream",
     "text": [
      "0.588398697097\n"
     ]
    }
   ],
   "source": [
    "from sklearn.ensemble import GradientBoostingRegressor\n",
    "from sklearn.model_selection import GridSearchCV\n",
    "\n",
    "GBR = GradientBoostingRegressor(n_estimators=100, learning_rate=0.1, max_depth=7, max_features=0.2, min_samples_leaf=17, random_state=11)\n",
    "GBR.fit(x_train, y_train)\n",
    " \n",
    "GBR_predictions_raw = np.round(GBR.predict(x_test))\n",
    "GBR_predictions = [np.minimum(np.maximum(p, 1), 8) for p in GBR_predictions_raw]\n",
    "print quadratic_weighted_kappa(GBR_predictions, y_test)\n",
    "\n",
    "GBR_predictions_train = GBR.predict(x_train)"
   ]
  },
  {
   "cell_type": "code",
   "execution_count": 62,
   "metadata": {
    "collapsed": false
   },
   "outputs": [
    {
     "name": "stdout",
     "output_type": "stream",
     "text": [
      "FEATURE IMPORTANCES\n",
      "\n",
      "BMI ---> 0.0808595947058\n",
      "Medical_History_15 ---> 0.0558591651674\n",
      "Ins_Age ---> 0.0504280058513\n",
      "Wt ---> 0.0495781343604\n",
      "Product_Info_4 ---> 0.0355772522188\n",
      "Medical_Keyword_Sum ---> 0.0295099112779\n",
      "Medical_History_2 ---> 0.0262820743593\n",
      "Medical_History_1 ---> 0.0251225621786\n",
      "Employment_Info_1 ---> 0.0216701607056\n",
      "Family_Hist_3 ---> 0.0209819729069\n",
      "Employment_Info_6 ---> 0.0206546860979\n",
      "Family_Hist_4 ---> 0.0204272541196\n"
     ]
    }
   ],
   "source": [
    "print 'FEATURE IMPORTANCES'\n",
    "print\n",
    "for imp, col in sorted(zip(GBR.feature_importances_, list(x_test)),  key=lambda x: x[0], reverse=True):\n",
    "    if imp > 0.02:\n",
    "        print col, '--->', imp"
   ]
  },
  {
   "cell_type": "markdown",
   "metadata": {},
   "source": [
    "### DEMO: calculating offsets with fmin_powell"
   ]
  },
  {
   "cell_type": "code",
   "execution_count": 165,
   "metadata": {
    "collapsed": false
   },
   "outputs": [
    {
     "name": "stdout",
     "output_type": "stream",
     "text": [
      "Optimization terminated successfully.\n",
      "         Current function value: 5.000000\n",
      "         Iterations: 2\n",
      "         Function evaluations: 99\n"
     ]
    }
   ],
   "source": [
    "from scipy.optimize import fmin_powell\n",
    "\n",
    "def min_func(x):\n",
    "    return (x[0]**2 + 5) + x[1]**2\n",
    "\n",
    "z = fmin_powell(min_func, [12,2])"
   ]
  },
  {
   "cell_type": "markdown",
   "metadata": {},
   "source": [
    "### Find offsets using fmin_powell"
   ]
  },
  {
   "cell_type": "code",
   "execution_count": 161,
   "metadata": {
    "collapsed": false
   },
   "outputs": [
    {
     "name": "stdout",
     "output_type": "stream",
     "text": [
      "Optimization terminated successfully.\n",
      "         Current function value: -0.709465\n",
      "         Iterations: 3\n",
      "         Function evaluations: 448\n"
     ]
    }
   ],
   "source": [
    "# SkLearn - GBR_predictions_train\n",
    "# XGBoost - preds_xgb_train\n",
    "\n",
    "def score_from_offsets(offsets):\n",
    "    offset_preds = offset_data(GBR_predictions_train, offsets)\n",
    "    final_preds = clip_data(offset_preds, 1, 8)\n",
    "    return score_data(final_preds, y_train) * (-1)\n",
    "\n",
    "final_offsets = fmin_powell(score_from_offsets, np.zeros(8))"
   ]
  },
  {
   "cell_type": "code",
   "execution_count": 97,
   "metadata": {
    "collapsed": false
   },
   "outputs": [
    {
     "data": {
      "text/plain": [
       "array([-2.57017901, -3.19885615, -1.70126465, -0.77621168, -0.41110624,\n",
       "        0.32602269,  7.76378688,  7.76378688])"
      ]
     },
     "execution_count": 97,
     "metadata": {},
     "output_type": "execute_result"
    }
   ],
   "source": [
    "# SkLearn final_offsets\n",
    "final_offsets"
   ]
  },
  {
   "cell_type": "code",
   "execution_count": 52,
   "metadata": {
    "collapsed": false
   },
   "outputs": [
    {
     "data": {
      "text/plain": [
       "array([-2.57017901, -3.19885615, -1.58509964, -0.86079908, -0.39518823,\n",
       "        0.28011523,  7.76378688,  7.76378688])"
      ]
     },
     "execution_count": 52,
     "metadata": {},
     "output_type": "execute_result"
    }
   ],
   "source": [
    "# XGBoost\n",
    "final_offsets"
   ]
  },
  {
   "cell_type": "code",
   "execution_count": 98,
   "metadata": {
    "collapsed": false
   },
   "outputs": [
    {
     "data": {
      "image/png": "[encoded data removed]",
      "text/plain": [
       "<matplotlib.figure.Figure at 0x7fb4680c5fd0>"
      ]
     },
     "metadata": {},
     "output_type": "display_data"
    }
   ],
   "source": [
    "plt.plot(range(1,9), clip_data(np.array(range(1,9) + final_offsets), 1, 8), 'ro')\n",
    "plt.xlabel('classes')\n",
    "plt.ylabel('clipped classes with offsets')\n",
    "plt.show()"
   ]
  },
  {
   "cell_type": "code",
   "execution_count": 54,
   "metadata": {
    "collapsed": false
   },
   "outputs": [
    {
     "data": {
      "text/plain": [
       "0.6420867746929223"
      ]
     },
     "execution_count": 54,
     "metadata": {},
     "output_type": "execute_result"
    }
   ],
   "source": [
    "# XGBoost\n",
    "\n",
    "preds_xgb = model.predict(xgtest, ntree_limit=model.best_iteration)\n",
    "\n",
    "offset_preds = offset_data(preds_xgb, final_offsets)\n",
    "final_preds = clip_data(offset_preds, 1, 8)\n",
    "score_data(final_preds, y_test)"
   ]
  },
  {
   "cell_type": "code",
   "execution_count": 164,
   "metadata": {
    "collapsed": false
   },
   "outputs": [
    {
     "data": {
      "text/plain": [
       "0.645914075975828"
      ]
     },
     "execution_count": 164,
     "metadata": {},
     "output_type": "execute_result"
    }
   ],
   "source": [
    "# SkLearn\n",
    "\n",
    "preds_xgb = GBR.predict(x_test)\n",
    "\n",
    "offset_preds = offset_data(preds_xgb, final_offsets)\n",
    "final_preds = clip_data(offset_preds, 1, 8)\n",
    "score_data(final_preds, y_test)"
   ]
  },
  {
   "cell_type": "markdown",
   "metadata": {},
   "source": [
    "### Lasso"
   ]
  },
  {
   "cell_type": "code",
   "execution_count": 153,
   "metadata": {
    "collapsed": false
   },
   "outputs": [
    {
     "data": {
      "text/plain": [
       "0.5300935852312663"
      ]
     },
     "execution_count": 153,
     "metadata": {},
     "output_type": "execute_result"
    }
   ],
   "source": [
    "from sklearn.linear_model import LassoCV\n",
    "\n",
    "alphas = [0.2, 0.1, 0.05, 0.01, 0.001, 0.005, 0.0001]\n",
    "lasso = LassoCV(alphas=alphas)\n",
    "lasso.fit(x_train, y_train)\n",
    "\n",
    "lasso_predictions = np.round(lasso.predict(x_test))\n",
    "lasso_predictions = [np.minimum(np.maximum(p, 1), 8) for p in lasso_predictions]\n",
    "quadratic_weighted_kappa(lasso_predictions, y_test)"
   ]
  },
  {
   "cell_type": "markdown",
   "metadata": {},
   "source": [
    "### RidgeCV"
   ]
  },
  {
   "cell_type": "code",
   "execution_count": 64,
   "metadata": {
    "collapsed": false
   },
   "outputs": [
    {
     "data": {
      "text/plain": [
       "0.5350644580601056"
      ]
     },
     "execution_count": 64,
     "metadata": {},
     "output_type": "execute_result"
    }
   ],
   "source": [
    "from sklearn.linear_model import RidgeCV\n",
    "\n",
    "alphas = [5,10,15,20]\n",
    "ridge = RidgeCV(alphas=alphas, cv=10)\n",
    "ridge.fit(x_train, y_train)\n",
    "\n",
    "ridge_predictions = np.round(ridge.predict(x_test))\n",
    "ridge_predictions = [np.minimum(np.maximum(p, 1), 8) for p in ridge_predictions]\n",
    "quadratic_weighted_kappa(ridge_predictions, y_test)"
   ]
  },
  {
   "cell_type": "markdown",
   "metadata": {},
   "source": [
    "### RandomForestRegressor"
   ]
  },
  {
   "cell_type": "code",
   "execution_count": 65,
   "metadata": {
    "collapsed": false
   },
   "outputs": [
    {
     "data": {
      "text/plain": [
       "GridSearchCV(cv=None, error_score='raise',\n",
       "       estimator=RandomForestRegressor(bootstrap=True, criterion='mse', max_depth=None,\n",
       "           max_features='auto', max_leaf_nodes=None,\n",
       "           min_impurity_split=1e-07, min_samples_leaf=1,\n",
       "           min_samples_split=2, min_weight_fraction_leaf=0.0,\n",
       "           n_estimators=100, n_jobs=1, oob_score=False, random_state=None,\n",
       "           verbose=0, warm_start=False),\n",
       "       fit_params={}, iid=True, n_jobs=1,\n",
       "       param_grid={'max_features': [1.0, 0.3, 0.1], 'max_depth': [2, 4, 6, 8], 'min_samples_leaf': [3, 5, 9, 17]},\n",
       "       pre_dispatch='2*n_jobs', refit=True, return_train_score=True,\n",
       "       scoring=None, verbose=0)"
      ]
     },
     "execution_count": 65,
     "metadata": {},
     "output_type": "execute_result"
    }
   ],
   "source": [
    "from sklearn.ensemble import RandomForestRegressor\n",
    "from sklearn.model_selection import GridSearchCV\n",
    "\n",
    "RFR = RandomForestRegressor(n_estimators=100)\n",
    "\n",
    "grid_params = {\n",
    "    'max_depth': [2,4,6,8],\n",
    "    'min_samples_leaf': [3,5,9,17],\n",
    "    'max_features': [1.0,0.3,0.1]\n",
    "}\n",
    "\n",
    "grid_search = GridSearchCV(RFR, param_grid=grid_params)\n",
    "grid_search.fit(x_test, y_test)"
   ]
  },
  {
   "cell_type": "code",
   "execution_count": 66,
   "metadata": {
    "collapsed": false
   },
   "outputs": [
    {
     "data": {
      "text/plain": [
       "0.5512278654168246"
      ]
     },
     "execution_count": 66,
     "metadata": {},
     "output_type": "execute_result"
    }
   ],
   "source": [
    "RFR_predictions = np.round(grid_search.predict(x_test))\n",
    "RFR_predictions = [np.minimum(np.maximum(p, 1), 8) for p in RFR_predictions]\n",
    "quadratic_weighted_kappa(RFR_predictions, y_test)"
   ]
  },
  {
   "cell_type": "markdown",
   "metadata": {},
   "source": [
    "### Summary or algorithms' scores"
   ]
  },
  {
   "cell_type": "markdown",
   "metadata": {},
   "source": [
    "LASSO <br/>\n",
    "-> 0.5517 <br/>\n",
    "\n",
    "RIDGE <br/>\n",
    "-> 0.54179 <br/>\n",
    "\n",
    "RFR <br/>\n",
    "-> 0.56167 <br/>\n",
    "\n",
    "GBR <br/>\n",
    "-> 0.592721 <br/>\n",
    "lasso features-> 0.591397196 <br/>\n",
    "reduced_freq_map (reducing 1 hot enc) -> 0.59547 <br/>\n",
    "no high NA features -> 0.562275 <br/>\n",
    "make_binary -> 0.59283 / 0.56 <br/>\n",
    "normalization -> 0.55816302 / 0.597768 <br/>\n",
    "log(skewed_features) -> 0.57484 <br/>\n",
    "PCA for Family_Hist -> 0.601676 <br/>\n",
    "polynomials of corr featues -> 0.55/0.57/0.59 ?? <br/>\n",
    "remove low var features -> 0.565397 <br/>\n",
    "offsets -> 0.651096 <br/>\n",
    "offsets + PCA -> 0.6530998 <br/>\n",
    "offsets + PCA + lasso_cols -> ~0.65 <br/>\n",
    "\n",
    "XGBoost <br/>\n",
    "offsets -> 0.64358 <br/>"
   ]
  },
  {
   "cell_type": "markdown",
   "metadata": {},
   "source": [
    "### Submit"
   ]
  },
  {
   "cell_type": "code",
   "execution_count": 176,
   "metadata": {
    "collapsed": false
   },
   "outputs": [
    {
     "data": {
      "text/plain": [
       "GradientBoostingRegressor(alpha=0.9, criterion='friedman_mse', init=None,\n",
       "             learning_rate=0.1, loss='ls', max_depth=7, max_features=0.2,\n",
       "             max_leaf_nodes=None, min_impurity_split=1e-07,\n",
       "             min_samples_leaf=17, min_samples_split=2,\n",
       "             min_weight_fraction_leaf=0.0, n_estimators=100,\n",
       "             presort='auto', random_state=11, subsample=1.0, verbose=0,\n",
       "             warm_start=False)"
      ]
     },
     "execution_count": 176,
     "metadata": {},
     "output_type": "execute_result"
    }
   ],
   "source": [
    "GBR.fit(pd.concat([x_train, x_test]), pd.concat([y_train, y_test]))"
   ]
  },
  {
   "cell_type": "code",
   "execution_count": 177,
   "metadata": {
    "collapsed": true
   },
   "outputs": [],
   "source": [
    "test_dataset_raw = pd.read_csv(\"test.csv\") \n",
    "test_dataset = test_dataset_raw.copy()"
   ]
  },
  {
   "cell_type": "code",
   "execution_count": 178,
   "metadata": {
    "collapsed": false
   },
   "outputs": [],
   "source": [
    "test_dataset = test_dataset.drop('Id', axis=1)"
   ]
  },
  {
   "cell_type": "code",
   "execution_count": 179,
   "metadata": {
    "collapsed": true
   },
   "outputs": [],
   "source": [
    "test_dataset = PCA_features(test_dataset, ['Family_Hist_2', 'Family_Hist_4'], pca_fh24, scaler_fh24, drop_orig=False)\n",
    "test_dataset = factorize_pr_info_2(test_dataset)\n",
    "test_dataset = sum_bool_cols(test_dataset, 'Medical_Keyword')\n",
    "test_dataset = test_dataset.fillna(test_dataset.mean())\n",
    "test_dataset = test_dataset[lasso_cols]"
   ]
  },
  {
   "cell_type": "code",
   "execution_count": 208,
   "metadata": {
    "collapsed": true
   },
   "outputs": [],
   "source": [
    "# XGBoost\n",
    "\n",
    "xgtest_dataset = xgb.DMatrix(test_dataset)\n",
    "preds_xgb_test = model.predict(xgtest_dataset, ntree_limit=model.best_iteration)\n",
    "\n",
    "offset_preds = offset_data(preds_xgb_test, final_offsets)\n",
    "submit_preds = clip_data(offset_preds, 1, 8)"
   ]
  },
  {
   "cell_type": "code",
   "execution_count": 180,
   "metadata": {
    "collapsed": true
   },
   "outputs": [],
   "source": [
    "# SkLearn\n",
    "\n",
    "preds_test = GBR.predict(test_dataset)\n",
    "\n",
    "offset_preds = offset_data(preds_test, final_offsets)\n",
    "submit_preds = clip_data(offset_preds, 1, 8)"
   ]
  },
  {
   "cell_type": "code",
   "execution_count": 181,
   "metadata": {
    "collapsed": false
   },
   "outputs": [],
   "source": [
    "submission = pd.DataFrame({\n",
    "    \"Id\": test_dataset_raw['Id'],\n",
    "    \"Response\": submit_preds\n",
    "})\n",
    "\n",
    "submission.to_csv(\"insurance_11.csv\", index=False)"
   ]
  }
 ],
 "metadata": {
  "kernelspec": {
   "display_name": "Python 2",
   "language": "python",
   "name": "python2"
  },
  "language_info": {
   "codemirror_mode": {
    "name": "ipython",
    "version": 2
   },
   "file_extension": ".py",
   "mimetype": "text/x-python",
   "name": "python",
   "nbconvert_exporter": "python",
   "pygments_lexer": "ipython2",
   "version": "2.7.12"
  }
 },
 "nbformat": 4,
 "nbformat_minor": 1
}
